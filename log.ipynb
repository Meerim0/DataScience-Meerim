{
 "cells": [
  {
   "cell_type": "code",
   "execution_count": null,
   "metadata": {
    "vscode": {
     "languageId": "plaintext"
    }
   },
   "outputs": [],
   "source": [
    "12.10\n",
    "1. Определили цель изучения математики;\n",
    "2. Проверили знание школьной математики;\n",
    "3. Скачала pypy, протестировала работу cpython и pypy."
   ]
  }
 ],
 "metadata": {
  "language_info": {
   "name": "python"
  }
 },
 "nbformat": 4,
 "nbformat_minor": 2
}
